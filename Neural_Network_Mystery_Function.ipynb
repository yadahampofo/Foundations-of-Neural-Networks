{
  "nbformat": 4,
  "nbformat_minor": 0,
  "metadata": {
    "colab": {
      "provenance": []
    },
    "kernelspec": {
      "name": "python3",
      "display_name": "Python 3"
    },
    "language_info": {
      "name": "python"
    }
  },
  "cells": [
    {
      "cell_type": "code",
      "source": [
        "import torch\n",
        "from torch import nn\n",
        "import random"
      ],
      "metadata": {
        "id": "xY-tfX83iLUH"
      },
      "execution_count": 15,
      "outputs": []
    },
    {
      "cell_type": "code",
      "source": [
        "def math_formula(a,b):\n",
        "  return torch.tensor(a+6*b)"
      ],
      "metadata": {
        "id": "6pJmepG8iiZe"
      },
      "execution_count": 16,
      "outputs": []
    },
    {
      "cell_type": "code",
      "source": [
        "#Build our neural network\n",
        "model = nn.Sequential(nn.Linear(2,1))\n",
        "model"
      ],
      "metadata": {
        "colab": {
          "base_uri": "https://localhost:8080/"
        },
        "id": "-DuzpVa3iiR7",
        "outputId": "a9b4fb33-a0d8-4cab-cbe0-1d9b76881979"
      },
      "execution_count": 17,
      "outputs": [
        {
          "output_type": "execute_result",
          "data": {
            "text/plain": [
              "Sequential(\n",
              "  (0): Linear(in_features=2, out_features=1, bias=True)\n",
              ")"
            ]
          },
          "metadata": {},
          "execution_count": 17
        }
      ]
    },
    {
      "cell_type": "code",
      "source": [
        "#Train the Neural Network\n",
        "\n",
        "#Step 1: How well the neural network is doing (The criterion)\n",
        "criterion = nn.MSELoss()\n",
        "\n",
        "#Step 2: How the neural network is updated during the training process\n",
        "optimizer = torch.optim.SGD(model.parameters(),lr=0.01,momentum=0.9)\n"
      ],
      "metadata": {
        "id": "0LfXYym-jM17"
      },
      "execution_count": 18,
      "outputs": []
    },
    {
      "cell_type": "code",
      "source": [
        "#Step 3:\n",
        "#Full input and output set\n",
        "for i in range(1000):\n",
        "  a = random.random()\n",
        "  b = random.random()\n",
        "  desiredOutput = math_formula(a,b)\n",
        "\n",
        "\n",
        "  output = model(torch.tensor([a,b]))\n",
        "  loss=criterion(output.squeeze(), desiredOutput)\n",
        "\n",
        "  if (i%100)==0:\n",
        "    print(f\"Loss:{loss.item()}\")\n",
        "\n",
        "  optimizer.zero_grad()\n",
        "  loss.backward()\n",
        "  optimizer.step()"
      ],
      "metadata": {
        "colab": {
          "base_uri": "https://localhost:8080/"
        },
        "id": "5EVIwSAmkW6y",
        "outputId": "fafa66ab-67d8-4219-f46e-ee285fbdbc94"
      },
      "execution_count": 19,
      "outputs": [
        {
          "output_type": "stream",
          "name": "stdout",
          "text": [
            "Loss:40.13097381591797\n",
            "Loss:0.32105106115341187\n",
            "Loss:0.00784327182918787\n",
            "Loss:0.000833620666526258\n",
            "Loss:9.069498628377914e-05\n",
            "Loss:1.0359713087382261e-07\n",
            "Loss:7.741442686892697e-08\n",
            "Loss:1.4011334315000568e-07\n",
            "Loss:7.993605777301127e-09\n",
            "Loss:5.755618204261737e-10\n"
          ]
        }
      ]
    },
    {
      "cell_type": "code",
      "source": [
        "a = 1.0\n",
        "b = -1.0\n",
        "\n",
        "output = model(torch.tensor([a,b]))\n",
        "print(output.item())"
      ],
      "metadata": {
        "colab": {
          "base_uri": "https://localhost:8080/"
        },
        "id": "pAWS6Swhl_3c",
        "outputId": "4d2a00e7-e3b4-48f6-af99-3f0f08f02276"
      },
      "execution_count": 20,
      "outputs": [
        {
          "output_type": "stream",
          "name": "stdout",
          "text": [
            "-4.99998664855957\n"
          ]
        }
      ]
    },
    {
      "cell_type": "code",
      "source": [
        "math_formula(a,b)"
      ],
      "metadata": {
        "colab": {
          "base_uri": "https://localhost:8080/"
        },
        "id": "pk5EmTw0mNGU",
        "outputId": "2f53b48b-edf1-44e3-a600-6d16526349ba"
      },
      "execution_count": 21,
      "outputs": [
        {
          "output_type": "execute_result",
          "data": {
            "text/plain": [
              "tensor(-5.)"
            ]
          },
          "metadata": {},
          "execution_count": 21
        }
      ]
    },
    {
      "cell_type": "markdown",
      "source": [
        "Based on [YouTube Tutorial](https://youtu.be/r5D6bnCJ490?si=sFc07132UdLnLhc2)"
      ],
      "metadata": {
        "id": "TKLyCBm6ogBr"
      }
    },
    {
      "cell_type": "code",
      "source": [],
      "metadata": {
        "id": "UDePCGnjo8hZ"
      },
      "execution_count": null,
      "outputs": []
    }
  ]
}